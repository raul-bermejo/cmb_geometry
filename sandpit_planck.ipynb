{
 "cells": [
  {
   "cell_type": "markdown",
   "id": "2363efc4",
   "metadata": {},
   "source": [
    "## import"
   ]
  },
  {
   "cell_type": "code",
   "execution_count": 3,
   "id": "c4816c61",
   "metadata": {},
   "outputs": [],
   "source": [
    "from datetime import datetime\n",
    "import time\n",
    "import os\n",
    "import pandas as pd\n",
    "import numpy as np\n",
    "import healpy as hp\n",
    "import seaborn as sns\n",
    "from astropy.io import fits\n",
    "import matplotlib.pyplot as plt\n",
    "from jupyterthemes import jtplot\n",
    "from healpy.fitsfunc import read_map\n",
    "import matplotlib.style as style\n",
    "#import camb\n",
    "#from camb import model, initialpower\n",
    "from scipy.optimize import curve_fit\n",
    "from pylab import cm\n",
    "\n",
    "%config InlineBackend.figure_format = 'retina'                                    # so you can see plots in HD :) \n",
    "#jtplot.style(theme='grade3', context='talk', ticks=True, grid=True)\n",
    "style.use('tableau-colorblind10')\n",
    "colors = sns.color_palette(\"colorblind\").as_hex()\n",
    "#style.use('seaborn-colorblind')\n",
    "today = datetime.today().strftime('%Y-%b-%d')\n",
    "\n",
    "# Tableau Color Blind 10\n",
    "tableau_colors = [(0, 107, 164), (255, 128, 14), (171, 171, 171), (89, 89, 89),\n",
    "             (95, 158, 209), (200, 82, 0), (137, 137, 137), (163, 200, 236),\n",
    "             (255, 188, 121), (207, 207, 207)]\n",
    "for i in range(len(tableau_colors)):  \n",
    "    r, g, b = tableau_colors[i]  \n",
    "    tableau_colors[i] = (r / 255., g / 255., b / 255.)\n",
    "\n",
    "############### CMB colormap\n",
    "from matplotlib.colors import ListedColormap\n",
    "colombi1_cmap = ListedColormap(np.loadtxt(\"Planck_Parchment_RGB.txt\")/255.)\n",
    "colombi1_cmap.set_bad(\"gray\") # color of missing pixels\n",
    "colombi1_cmap.set_under(\"white\") # color of background, necessary if you want to use\n",
    "# this colormap directly with hp.mollview(m, cmap=colombi1_cmap)\n",
    "cmap = colombi1_cmap"
   ]
  },
  {
   "cell_type": "markdown",
   "id": "4e5758f0",
   "metadata": {},
   "source": [
    "## extract CMB maps and masks"
   ]
  },
  {
   "cell_type": "code",
   "execution_count": null,
   "id": "7a5b2413",
   "metadata": {},
   "outputs": [
    {
     "name": "stdout",
     "output_type": "stream",
     "text": [
      "Started Planck data extraction:\n",
      "==========================================================================================\n"
     ]
    }
   ],
   "source": [
    "# Define data fixed params\n",
    "NSIDE = 2048                                                                      # given in the name of the maps\n",
    "APO = 5                                                                           # apodization length\n",
    "HDU = 1\n",
    "FREQ = 143 \n",
    "gal_cover = 80                                                                    # % of cover in galacitc plane\n",
    "\n",
    "BAD_DATA = -1.6375e+30\n",
    "\n",
    "H_0 = 67.5                                                                        # Set parameter from Planck\n",
    "\n",
    "# Extract data in directly from .npy files\n",
    "start1 = time.time()\n",
    "print(f'Started Planck data extraction:')\n",
    "print('='*90)\n",
    "data_filenames = ['HFI_SkyMap_143_2048_R3.01_halfmission-1.npy',\n",
    "                  'HFI_SkyMap_143_2048_R3.01_halfmission-2.npy',\n",
    "                  f'HFI_Mask_GalPlane-apo{APO}_2048_R2.00_fsky={gal_cover/100}.npy',\n",
    "                  'HFI_Mask_PointSrc_2048_R2.00.npy' ,\n",
    "                  'Bl_T_R3.01_fullsky_143hm1x143hm1.npy',\n",
    "                  'Bl_T_R3.01_fullsky_143hm1x143hm2.npy']\n",
    "\n",
    "arrays = []\n",
    "for filename in data_filenames:\n",
    "    arrays.append(np.load('data_test/'+filename))\n",
    "    print(f'{filename} was extracted succesfully.')\n",
    "    print('-'*75)\n",
    "\n",
    "sky_hm1, sky_hm2, mask_gp, mask_ps, beam_hm1, beam_hm2 = arrays \n",
    "\n",
    "end1 = time.time()\n",
    "print('='*90)\n",
    "print(f'It took {end1-start1:.2f}s. to extract the Planck data files.')"
   ]
  },
  {
   "cell_type": "markdown",
   "id": "231663db",
   "metadata": {},
   "source": [
    "## data quality check"
   ]
  },
  {
   "cell_type": "code",
   "execution_count": null,
   "id": "c7125bd5",
   "metadata": {},
   "outputs": [],
   "source": [
    "sky_hm1, sky_hm2 = clean_skydata(sky_hm1), clean_skydata(sky_hm2)"
   ]
  },
  {
   "cell_type": "markdown",
   "id": "d01fab33",
   "metadata": {},
   "source": [
    "## plot maps"
   ]
  },
  {
   "cell_type": "code",
   "execution_count": null,
   "id": "d9f2ce82",
   "metadata": {},
   "outputs": [],
   "source": [
    "mask = mask_gp.astype(np.bool_)\n",
    "p_map = sky_hm1 \n",
    "\n",
    "p_map_masked = hp.ma(p_map)\n",
    "p_map_masked.mask = np.logical_not(mask)\n",
    "#p_map_masked[p_map_masked.mask] = hp.UNSEEN"
   ]
  },
  {
   "cell_type": "code",
   "execution_count": null,
   "id": "d4e4302b",
   "metadata": {},
   "outputs": [],
   "source": [
    "hp.mollview(p_map*1e6, norm='hist', cmap=cmap,\n",
    "            unit=\"$\\mu$K\", title='',\n",
    "            notext=True)\n",
    "\n",
    "hp.graticule(local=True, dmer=360,dpar=360,alpha=0)"
   ]
  },
  {
   "cell_type": "code",
   "execution_count": null,
   "id": "20e6b50a",
   "metadata": {},
   "outputs": [],
   "source": [
    "hp.mollview(p_map*mask_ps*1e6, norm='hist', cmap=cmap,\n",
    "            unit=\"$\\mu$K\", title='',\n",
    "            notext=True)\n",
    "\n",
    "hp.graticule(local=True, dmer=360,dpar=360,alpha=0)"
   ]
  },
  {
   "cell_type": "code",
   "execution_count": null,
   "id": "d19289ca",
   "metadata": {},
   "outputs": [],
   "source": [
    "mask = mask_gp.astype(np.bool_)\n",
    "p_map = sky_hm1 \n",
    "\n",
    "p_map_masked = hp.ma(p_map)\n",
    "p_map_masked.mask = np.logical_not(mask)\n",
    "#p_map_masked[p_map_masked.mask] = hp.UNSEEN\n",
    "\n",
    "hp.mollview(p_map_masked.filled()*mask_ps, norm='hist', cmap=cmap,\n",
    "            cbar=True, title='',\n",
    "            notext=True)\n",
    "\n",
    "hp.graticule(local=True, dmer=360,dpar=360,alpha=0)"
   ]
  },
  {
   "cell_type": "code",
   "execution_count": null,
   "id": "3d469e92",
   "metadata": {
    "scrolled": false
   },
   "outputs": [],
   "source": [
    "plot_all_maps = False\n",
    "if plot_all_maps:\n",
    "    plot_array = [sky_hm1, sky_hm1*mask_ps, sky_hm1*mask_gp*mask_ps, \n",
    "              sky_hm2, sky_hm2*mask_ps, sky_hm2*mask_gp*mask_ps]\n",
    "\n",
    "    titles = ['Sky', f'Sky + Mask_GP (APO{APO} - {gal_cover})', f'Sky + Mask_GP + Mask_PS (APO{APO} - {gal_cover}% coverage)']\n",
    "    \n",
    "    for i, arr in enumerate(plot_array):\n",
    "        hp.mollview(arr*10**6, coord=[\"G\"],  norm=\"hist\",\n",
    "                    title=f\"Norm. Histogram for HM{1 if i < 3 else 2}: {titles[i%3]}\", \n",
    "                    unit=\"$\\mu$K norm.\", cmap=cmap)\n",
    "\n",
    "        hp.graticule()"
   ]
  },
  {
   "cell_type": "markdown",
   "id": "c203e120",
   "metadata": {},
   "source": [
    "## compute spherical harmoncis"
   ]
  },
  {
   "cell_type": "code",
   "execution_count": null,
   "id": "aba78cce",
   "metadata": {},
   "outputs": [],
   "source": [
    "a_lm_1 = find_spherical_harmonics(sky_hm1, mask_gp, mask_ps)\n",
    "a_lm_2 = find_spherical_harmonics(sky_hm2, mask_gp, mask_ps)"
   ]
  },
  {
   "cell_type": "markdown",
   "id": "7b6f48d9",
   "metadata": {},
   "source": [
    "## compute actual cross power spectrum"
   ]
  },
  {
   "cell_type": "code",
   "execution_count": null,
   "id": "4f285806",
   "metadata": {},
   "outputs": [],
   "source": [
    "# find power spectrum and bin it (remove edges too i.e. clean power spectrum)\n",
    "D_l, C_l = find_power_spectrum(a_lm_1, a_lm_2, beam_hm1, beam_hm2, which_return='both')\n",
    "l_planck, Cl_planck = clean_power_spectrum(C_l)"
   ]
  },
  {
   "cell_type": "markdown",
   "id": "24661137",
   "metadata": {},
   "source": [
    "## find a fit for the 1st peak of the cross power spectrum"
   ]
  },
  {
   "cell_type": "code",
   "execution_count": null,
   "id": "3df66cb9",
   "metadata": {
    "scrolled": false
   },
   "outputs": [],
   "source": [
    "# find an approximate fit for the first peak\n",
    "N_l = 2536                                                                                               # lmax for pixwindow\n",
    "l_a, l_b = 100, 320\n",
    "ind_fit_a, ind_fit_b = np.where(l_planck == l_a)[0][0], np.where(l_planck == l_b)[0][0]\n",
    "\n",
    "params_p1, cov_p1 = curve_fit(model_cl, l_planck[ind_fit_a:ind_fit_b], Cl_planck[ind_fit_a:ind_fit_b],\n",
    "                             p0=[ 1.81914268e+03,-8.19192815e-02 ,2.11136936e+02]) \n",
    "\n",
    "l_fit = np.arange(N_l+1)\n",
    "Cl_fit = model_cl(l_fit,*params_p1)\n",
    "\n",
    "# The peak is now a fitting parameter, and the uncertainty is given in the fitting covariance matrix\n",
    "lp_planck = params_p1[-1]\n",
    "sigma_lp_planck = np.sqrt(np.diag(cov_p1)[-1])"
   ]
  },
  {
   "cell_type": "markdown",
   "id": "b89c69cc",
   "metadata": {},
   "source": [
    "## compute boltzmann code for flat geometry"
   ]
  },
  {
   "cell_type": "code",
   "execution_count": null,
   "id": "b79761ab",
   "metadata": {},
   "outputs": [],
   "source": [
    "# Set model params for fit\n",
    "n_models = 8\n",
    "guess = -0.027\n",
    "delta = 0.02                                                                           # spacing in omega_k between models\n",
    "\n",
    "omega_k = np.linspace(guess - (delta*n_models)/2, guess + (delta*n_models)/2, num=n_models)\n",
    "\n",
    "boltzm_cosmo_params = {\n",
    "    'omega_baryons': [0.022 for _ in range(n_models)],\n",
    "    'omega_cdm': [0.122 for _ in range(n_models)],\n",
    "    'omega_curv': omega_k\n",
    "}\n",
    "\n",
    "start_bc = time.time()\n",
    "# compute power spectrum for each models and its associated l_peak\n",
    "l_boltz, Cl_boltz, l_peaks_bc = [], [], []\n",
    "\n",
    "print(\"Started computation of BC power spectrum for different cosmologies:\")\n",
    "print(\"=\"*70)\n",
    "for i in range(n_models):\n",
    "    omega_b_i, omega_cdm_i, omega_k_i = boltzm_cosmo_params['omega_baryons'][i], boltzm_cosmo_params['omega_cdm'][i], boltzm_cosmo_params['omega_curv'][i]\n",
    "    l_i, Cl_i = boltzmann_cl(omega_b_i, omega_cdm_i, omega_k_i, H_0)\n",
    "    l_boltz.append(l_i) \n",
    "    Cl_boltz.append(Cl_i)\n",
    "    # find the peak\n",
    "    l_peakbz_i = peak_finder(l_boltz[i], Cl_boltz[i])\n",
    "    l_peaks_bc.append(l_peakbz_i)\n",
    "    \n",
    "    print(f\"A model was succesfully constructed for: omega_bary = {omega_b_i:.3f}, omega_cdm = {omega_cdm_i:.3f}, omega_k = {omega_k_i:.3f} \")\n",
    "    print(\"-\"*100)\n",
    "    \n",
    "end_bc = time.time()\n",
    "print(f'Computing the Boltzmann Code cross-power spectra took {end_bc-start_bc:.2f} s.')\n",
    "print(\"=\"*70)"
   ]
  },
  {
   "cell_type": "markdown",
   "id": "7b5f853d",
   "metadata": {},
   "source": [
    "## plotting Boltzmann-Code C_ls"
   ]
  },
  {
   "cell_type": "code",
   "execution_count": null,
   "id": "8aaffb3c",
   "metadata": {},
   "outputs": [],
   "source": [
    "# Plotting the Planck spectra and model comparison\n",
    "\n",
    "#norm_factor = Cl_boltz_0[l_peaks_bc[0]]/Cl_fit[np.where(Cl_fit == np.max(Cl_fit))[0][0]] \n",
    "norm_factor = np.mean(Cl_boltz[0][l_a:l_b]/Cl_fit[l_a:l_b])\n",
    "\n",
    "fig, ax = plt.subplots(figsize=(13,9))\n",
    "\n",
    "# plotting 3 evenly spaced boltzman codes for reference\n",
    "plot_bc = True\n",
    "if plot_bc:\n",
    "    k = 0\n",
    "    for j in [0,4,-1]:\n",
    "        \n",
    "        omega_k_j = boltzm_cosmo_params['omega_curv'][j]\n",
    "        ax.plot(l_boltz[j], Cl_boltz[j], '-', \n",
    "                label='Boltzmann Code: $\\Omega_k=$ ' + f'{omega_k_j:.3f}: ' + r'$\\ell_{peak}$ = '+f'{l_peaks_bc[j]:.0f}',\n",
    "                color=colors[k%5])\n",
    "\n",
    "        show_peak = True\n",
    "        if show_peak:\n",
    "            ax.axvline(l_peaks_bc[j], color=colors[k%5])\n",
    "            #ax.text(l_peakbz_i+6, 400 + 400*i, r'$\\el\\ell_{peak}$ = '+f'{l_peakbz_i:.0f}', color=colors[3+i])\n",
    "        \n",
    "        k += 1 \n",
    "#ax.set_yscale('log')\n",
    "ax.set_xlim([20,1500])\n",
    "\n",
    "ax.set_xlabel('$\\ell$')\n",
    "ax.set_ylabel(r'$\\frac{l(l+1)}{\\pi} C_l$ $(\\mu K^2)$')\n",
    "\n",
    "plt.legend(loc=0)\n",
    "plt.grid(True)\n",
    "\n",
    "save_fig = False\n",
    "if save_fig:\n",
    "    cps_title = f'plots/BoltzCode_Cls_{today}.png'\n",
    "    try:\n",
    "        plt.savefig(cps_title, format='png', dpi=200, pad_inches=0.1, bbox_inches='tight', facecolor='w')\n",
    "    except FileNotFoundError:\n",
    "        os.mkdir('plots')\n",
    "        plt.savefig(cps_title, format='png', dpi=200, pad_inches=0.1, bbox_inches='tight', facecolor='w')\n",
    "plt.show()"
   ]
  },
  {
   "cell_type": "markdown",
   "id": "41cc306c",
   "metadata": {},
   "source": [
    "## plot normalized Planck C_l"
   ]
  },
  {
   "cell_type": "code",
   "execution_count": null,
   "id": "dd8f7b59",
   "metadata": {},
   "outputs": [],
   "source": [
    "norm_factor = np.mean(Cl_boltz[0][l_a:l_b]/Cl_fit[l_a:l_b])\n",
    "\n",
    "fig, ax = plt.subplots(figsize=(13,9))\n",
    "\n",
    "ax.plot(l_planck, norm_factor*Cl_planck, 'o', markersize=3, label='Planck Signal', color=colors[0])\n",
    "ax.plot(l_fit[l_a:l_b], norm_factor*Cl_fit[l_a:l_b], '-',  color=colors[1], \n",
    "        label=f'Planck Fit: ' +r'$\\ell_{peak}$ = '+f'{lp_planck:.2f}' + '$\\pm$' + f'{sigma_lp_planck:.2f}') \n",
    "ax.axvline(lp_planck, color=colors[1])\n",
    "\n",
    "ax.set_xlim([20,1500])\n",
    "\n",
    "ax.set_xlabel('$\\ell$')\n",
    "ax.set_ylabel(r'$\\frac{\\ell(\\ell+1)}{\\pi} C_{\\ell}$   $(\\mu K^2$)')\n",
    "plt.legend()\n",
    "plt.grid(True)\n",
    "\n",
    "save_fig = False\n",
    "if save_fig:\n",
    "    cps_title = f'plots/Planck_Cl_{FREQ}x{FREQ}__{gal_cover}perc_{today}.png'\n",
    "    try:\n",
    "        plt.savefig(cps_title, format='png', dpi=200, pad_inches=0.1, bbox_inches='tight',facecolor='w')\n",
    "    except FileNotFoundError:\n",
    "        os.mkdir('plots')\n",
    "        plt.savefig(cps_title, format='png', dpi=200, pad_inches=0.1, bbox_inches='tight',facecolor='w')\n",
    "plt.show()"
   ]
  },
  {
   "cell_type": "markdown",
   "id": "908ce7b4",
   "metadata": {},
   "source": [
    "### Estimating $\\Omega_k$ for the CMB signal"
   ]
  },
  {
   "cell_type": "code",
   "execution_count": null,
   "id": "5a7edbe7",
   "metadata": {},
   "outputs": [],
   "source": [
    "# Find a fit for omega_k vs. l_peak for the Boltzmann code\n",
    "params_p2, cov_p2 = np.polyfit(l_peaks_bc, omega_k, deg=1, cov=True)            # highest order coefficients are returned first\n",
    "a1_lin, a0_lin = params_p2\n",
    "sigma_a1, sigma_a0 = np.sqrt(np.diag(cov_p2))\n",
    "\n",
    "l_peak_fit = np.linspace(l_peaks_bc[0]-1,l_peaks_bc[-1]+1, num=5000)\n",
    "om_k_fit = poly_n(l_peak_fit,params_p2)\n",
    "\n",
    "# find omega_k estiamte for planck data\n",
    "om_k_planck = lp_planck*a1_lin + a0_lin\n",
    "\n",
    "# propagate uncertainty to find sigma_omegak\n",
    "def sigma_omk(l, a0, a1, \n",
    "              s_l, s_a0, s_a1):\n",
    "    '''\n",
    "    Propagation of uncertainties for curvature density parameter\n",
    "    '''\n",
    "    var = (a1*s_l)**2 + s_a0**2 + (l*s_a1)**2\n",
    "    \n",
    "    return np.sqrt(var)\n",
    "\n",
    "sigma_omega_k = sigma_omk(lp_planck, a0_lin, a1_lin, sigma_lp_planck, sigma_a0, sigma_a1)   # sigma_a0, sigma_a1 = 0 as otherwise uncertainty becomes too great\n",
    "\n",
    "# Finally plot the curvature density fit\n",
    "fig, ax = plt.subplots(figsize=(13,9))\n",
    "ax.plot(l_peaks_bc, omega_k, 'o', color=colors[0])\n",
    "ax.plot(l_peak_fit, om_k_fit, color=colors[1],\n",
    "        label='Best Fit: $\\Omega_k(\\ell_{peak})$ = ' + f'{a0_lin:.2f} + {a1_lin:.3f}'+'$\\ell_{peak}$')\n",
    "ax.axhline(om_k_planck, color=colors[2],\n",
    "           label='Planck estimate: $\\Omega_k$ = ' + f'{om_k_planck:.3f}' +'$\\pm$' + f'{sigma_omega_k:.3f}')\n",
    "\n",
    "ax.set_title(f'Planck Curvature Density ($\\Omega_k$) Estimate')\n",
    "ax.set_xlabel('$\\ell_{peak}$')\n",
    "ax.set_ylabel(r'$\\Omega_k$')\n",
    "plt.legend(loc=0)\n",
    "plt.grid(True)\n",
    "\n",
    "save_fig = False\n",
    "if save_fig:\n",
    "    k_title = f'plots/CMB_DensityCurvature_{FREQ}x{FREQ}_{today}.png'\n",
    "    try:\n",
    "        plt.savefig(k_title, format='png', dpi=200, pad_inches=0.1, bbox_inches='tight')\n",
    "    except FileNotFoundError:\n",
    "        os.mkdir('plots')\n",
    "        plt.savefig(k_title, format='png', dpi=200, pad_inches=0.1, bbox_inches='tight')\n",
    "\n",
    "plt.show()"
   ]
  }
 ],
 "metadata": {
  "kernelspec": {
   "display_name": "Python 3 (ipykernel)",
   "language": "python",
   "name": "python3"
  },
  "language_info": {
   "codemirror_mode": {
    "name": "ipython",
    "version": 3
   },
   "file_extension": ".py",
   "mimetype": "text/x-python",
   "name": "python",
   "nbconvert_exporter": "python",
   "pygments_lexer": "ipython3",
   "version": "3.9.7"
  }
 },
 "nbformat": 4,
 "nbformat_minor": 5
}
