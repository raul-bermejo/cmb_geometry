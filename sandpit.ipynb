{
 "cells": [
  {
   "cell_type": "markdown",
   "id": "2363efc4",
   "metadata": {},
   "source": [
    "## import"
   ]
  },
  {
   "cell_type": "code",
   "execution_count": 1,
   "id": "c4816c61",
   "metadata": {},
   "outputs": [],
   "source": [
    "import pandas as pd\n",
    "import numpy as np\n",
    "import scipy as sp\n",
    "from astropy.io import fits\n",
    "from astropy.utils.data import get_pkg_data_filename\n",
    "from astropy.table import Table\n",
    "import matplotlib.pyplot as plt\n",
    "from jupyterthemes import jtplot\n",
    "from healpy.sphtfunc import map2alm\n",
    "\n",
    "%config InlineBackend.figure_format = 'retina'                                    # so you can see plots in HD :) \n",
    "#colors = sns.color_palette(\"colorblind\").as_hex()\n",
    "jtplot.style(theme='monokai', context='notebook', ticks=True, grid=False)"
   ]
  },
  {
   "cell_type": "markdown",
   "id": "4e5758f0",
   "metadata": {},
   "source": [
    "## explore CMB maps"
   ]
  },
  {
   "cell_type": "code",
   "execution_count": null,
   "id": "1ca8087c",
   "metadata": {
    "scrolled": false
   },
   "outputs": [],
   "source": [
    "# define paths to datafiles\n",
    "map_hm1 = 'data/HFI_SkyMap_143_2048_R3.01_halfmission-1.fits'              # map for half mission 1 143 GHZ\n",
    "map_hm2 = 'data/HFI_SkyMap_143_2048_R3.01_halfmission-2.fits'\n",
    "mask_gp = 'data/HFI_Mask_GalPlane-apo5_2048_R2.00.fits'              # galactic plane mask\n",
    "mask_ps = 'data/HFI_Mask_PointSrc_2048_R2.00.fits'                   # mask point source\n",
    "\n",
    "# extract primary headers in each fits file\n",
    "second_hdus = []\n",
    "event_hdus = []\n",
    "\n",
    "\n",
    "if True:\n",
    "    for item in [map_hm1, map_hm2, mask_gp, mask_ps]:\n",
    "        # open each file, print important info, and extract primary data\n",
    "        hdul_i = fits.open(item)\n",
    "        hdul_i.info()\n",
    "        print('='*90)\n",
    "\n",
    "        #events = Table.read(item, hdu=1)\n",
    "        #event_hdus.append(events)\n",
    "        second_hdus.append(hdul_i[1].data)\n",
    "    \n",
    "#events = Table.read(map_hm1, hdu=1)"
   ]
  },
  {
   "cell_type": "code",
   "execution_count": 3,
   "id": "7a5b2413",
   "metadata": {},
   "outputs": [
    {
     "name": "stdout",
     "output_type": "stream",
     "text": [
      "Filename: data/HFI_SkyMap_143_2048_R3.01_halfmission-1.fits\n",
      "No.    Name      Ver    Type      Cards   Dimensions   Format\n",
      "  0  PRIMARY       1 PrimaryHDU       4   ()      \n",
      "  1  FREQ-MAP      1 BinTableHDU     75   50331648R x 10C   [E, E, E, J, E, E, E, E, E, E]   \n",
      "==========================================================================================\n",
      "Filename: data/HFI_SkyMap_143_2048_R3.01_halfmission-2.fits\n",
      "No.    Name      Ver    Type      Cards   Dimensions   Format\n",
      "  0  PRIMARY       1 PrimaryHDU       4   ()      \n",
      "  1  FREQ-MAP      1 BinTableHDU     75   50331648R x 10C   [E, E, E, J, E, E, E, E, E, E]   \n",
      "==========================================================================================\n",
      "Filename: data/HFI_Mask_GalPlane-apo5_2048_R2.00.fits\n",
      "No.    Name      Ver    Type      Cards   Dimensions   Format\n",
      "  0  PRIMARY       1 PrimaryHDU       4   ()      \n",
      "  1  GAL-MASK      1 BinTableHDU     54   50331648R x 8C   [E, E, E, E, E, E, E, E]   \n",
      "==========================================================================================\n",
      "Filename: data/HFI_Mask_PointSrc_2048_R2.00.fits\n",
      "No.    Name      Ver    Type      Cards   Dimensions   Format\n",
      "  0  PRIMARY       1 PrimaryHDU       4   ()      \n",
      "  1  SRC-INT       1 BinTableHDU     49   50331648R x 6C   [B, B, B, B, B, B]   \n",
      "  2  SRC-POL       1 BinTableHDU     47   50331648R x 4C   [B, B, B, B]   \n",
      "==========================================================================================\n"
     ]
    }
   ],
   "source": [
    "def extract_data(filepath, hdu=1):\n",
    "    '''\n",
    "    Extracts input HDU from map Planck FITS file (we only need the first one)\n",
    "    Document function once fully tested\n",
    "    '''\n",
    "    \n",
    "    hdul = fits.open(filepath)\n",
    "    hdul.info()                              # prints metadata about FITS file (HDUs)\n",
    "    print('='*90)\n",
    "    \n",
    "    data = hdul[hdu].data                    # hdul is a list of HDU objects\n",
    "    \n",
    "    return data\n",
    "\n",
    "# Define each filepath\n",
    "map_hm1 = 'data/HFI_SkyMap_143_2048_R3.01_halfmission-1.fits'        # map for half mission 1 143 GHZ\n",
    "map_hm2 = 'data/HFI_SkyMap_143_2048_R3.01_halfmission-2.fits'        # map for half mission 2 143 GHZ\n",
    "mask_gp = 'data/HFI_Mask_GalPlane-apo5_2048_R2.00.fits'              # galactic plane mask\n",
    "mask_ps = 'data/HFI_Mask_PointSrc_2048_R2.00.fits'                   # mask point source\n",
    "\n",
    "# Extract maps from half missions 1 and 2, and masks for galactic plane and point source\n",
    "data_map_hm1 = extract_data(map_hm1)\n",
    "data_map_hm2 = extract_data(map_hm2)\n",
    "data_mask_gp = extract_data(mask_gp)\n",
    "data_mask_ps = extract_data(mask_ps)"
   ]
  },
  {
   "cell_type": "code",
   "execution_count": 4,
   "id": "aba78cce",
   "metadata": {},
   "outputs": [],
   "source": [
    "def find_spherical_harmonics(map_table, gp_table, ps_table,\n",
    "                             stoke_param ='I_STOKES', galactic_plane='GAL040', frequency=143):\n",
    "    '''\n",
    "    Computes the spherical harmonics from a map,\n",
    "    masking the stokes parameters from the raw CMB data\n",
    "    Fully document function once fully tested\n",
    "    '''\n",
    "    \n",
    "    # extract stoke parameter (T or I by default) and mask based on galactic plane and point source\n",
    "    x = map_table[stoke_param]\n",
    "    gp_mask = gp_table[galactic_plane]\n",
    "    ps_mask = ps_table[f'F{frequency}']\n",
    "    x_masked = x*gp_mask*ps_mask\n",
    "    \n",
    "    # compute spherical harmonics\n",
    "    nside = x_masked.shape[0]\n",
    "    a_lm =  map2alm(x_masked, lmax=1000)\n",
    "    \n",
    "    return a_lm\n",
    "\n",
    "# Call function\n",
    "a_lm_1 = find_spherical_harmonics(data_map_hm1, data_mask_gp, data_mask_ps)\n",
    "#a_lm_2 = find_spherical_harmonics(data_map_hm2, data_mask_gp, data_mask_ps)"
   ]
  },
  {
   "cell_type": "code",
   "execution_count": null,
   "id": "7771c763",
   "metadata": {},
   "outputs": [],
   "source": [
    "a_lm_2 = find_spherical_harmonics(data_map_hm2, data_mask_gp, data_mask_ps)"
   ]
  },
  {
   "cell_type": "code",
   "execution_count": null,
   "id": "d33eeea8",
   "metadata": {},
   "outputs": [],
   "source": [
    "print(a_lm_1.shape)"
   ]
  },
  {
   "cell_type": "code",
   "execution_count": null,
   "id": "108415ec",
   "metadata": {},
   "outputs": [],
   "source": [
    "# plot spherical harmonics as a function of the multipole\n",
    "l = np.arange(a_lm_1.shape[0])\n",
    "\n",
    "plt.figure(figsize=(13,9))\n",
    "plt.plot(l, a_lm_1.real)\n",
    "plt.show()"
   ]
  },
  {
   "cell_type": "code",
   "execution_count": null,
   "id": "c3e6c6b7",
   "metadata": {},
   "outputs": [],
   "source": [
    "# plot spherical harmonics as a function of the multipole\n",
    "l = np.arange(a_lm_1.shape[0])\n",
    "\n",
    "plt.figure(figsize=(13,9))\n",
    "plt.plot(l, np.abs(a_lm_1.real))\n",
    "plt.show()"
   ]
  },
  {
   "cell_type": "code",
   "execution_count": null,
   "id": "ce4deceb",
   "metadata": {},
   "outputs": [],
   "source": [
    "print(a_lm_1.shape)"
   ]
  },
  {
   "cell_type": "code",
   "execution_count": null,
   "id": "e6dbab56",
   "metadata": {},
   "outputs": [],
   "source": [
    "12*2048**2"
   ]
  },
  {
   "cell_type": "code",
   "execution_count": null,
   "id": "9f473147",
   "metadata": {},
   "outputs": [],
   "source": [
    "(3*2048)*(3*2048+1)/2"
   ]
  },
  {
   "cell_type": "code",
   "execution_count": null,
   "id": "99b9befa",
   "metadata": {},
   "outputs": [],
   "source": [
    "print(np.mean(a_lm_1.real[4:]))"
   ]
  },
  {
   "cell_type": "code",
   "execution_count": null,
   "id": "254e628d",
   "metadata": {},
   "outputs": [],
   "source": []
  }
 ],
 "metadata": {
  "kernelspec": {
   "display_name": "Python 3",
   "language": "python",
   "name": "python3"
  },
  "language_info": {
   "codemirror_mode": {
    "name": "ipython",
    "version": 3
   },
   "file_extension": ".py",
   "mimetype": "text/x-python",
   "name": "python",
   "nbconvert_exporter": "python",
   "pygments_lexer": "ipython3",
   "version": "3.8.8"
  }
 },
 "nbformat": 4,
 "nbformat_minor": 5
}
