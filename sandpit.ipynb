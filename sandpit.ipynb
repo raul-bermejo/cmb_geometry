{
 "cells": [
  {
   "cell_type": "markdown",
   "id": "2363efc4",
   "metadata": {},
   "source": [
    "## import"
   ]
  },
  {
   "cell_type": "code",
   "execution_count": 1,
   "id": "c4816c61",
   "metadata": {},
   "outputs": [],
   "source": [
    "import time\n",
    "import pandas as pd\n",
    "import numpy as np\n",
    "import healpy as hp\n",
    "from astropy.io import fits\n",
    "import matplotlib.pyplot as plt\n",
    "from jupyterthemes import jtplot\n",
    "\n",
    "%config InlineBackend.figure_format = 'retina'                                    # so you can see plots in HD :) \n",
    "#colors = sns.color_palette(\"colorblind\").as_hex()\n",
    "jtplot.style(theme='monokai', context='notebook', ticks=True, grid=False)\n",
    "NSIDE = 2048                                                                      # given in the name of the maps"
   ]
  },
  {
   "cell_type": "markdown",
   "id": "4e5758f0",
   "metadata": {},
   "source": [
    "## extract CMB maps and masks"
   ]
  },
  {
   "cell_type": "code",
   "execution_count": 8,
   "id": "7a5b2413",
   "metadata": {},
   "outputs": [
    {
     "name": "stdout",
     "output_type": "stream",
     "text": [
      "Filename: data/HFI_SkyMap_143_2048_R3.01_halfmission-1.fits\n",
      "No.    Name      Ver    Type      Cards   Dimensions   Format\n",
      "  0  PRIMARY       1 PrimaryHDU       4   ()      \n",
      "  1  FREQ-MAP      1 BinTableHDU     75   50331648R x 10C   ['E', 'E', 'E', 'J', 'E', 'E', 'E', 'E', 'E', 'E']   \n",
      "==========================================================================================\n",
      "Filename: data/HFI_SkyMap_143_2048_R3.01_halfmission-2.fits\n",
      "No.    Name      Ver    Type      Cards   Dimensions   Format\n",
      "  0  PRIMARY       1 PrimaryHDU       4   ()      \n",
      "  1  FREQ-MAP      1 BinTableHDU     75   50331648R x 10C   ['E', 'E', 'E', 'J', 'E', 'E', 'E', 'E', 'E', 'E']   \n",
      "==========================================================================================\n",
      "Filename: data/HFI_Mask_GalPlane-apo5_2048_R2.00.fits\n",
      "No.    Name      Ver    Type      Cards   Dimensions   Format\n",
      "  0  PRIMARY       1 PrimaryHDU       4   ()      \n",
      "  1  GAL-MASK      1 BinTableHDU     54   50331648R x 8C   ['E', 'E', 'E', 'E', 'E', 'E', 'E', 'E']   \n",
      "==========================================================================================\n",
      "Filename: data/HFI_Mask_PointSrc_2048_R2.00.fits\n",
      "No.    Name      Ver    Type      Cards   Dimensions   Format\n",
      "  0  PRIMARY       1 PrimaryHDU       4   ()      \n",
      "  1  SRC-INT       1 BinTableHDU     49   50331648R x 6C   ['B', 'B', 'B', 'B', 'B', 'B']   \n",
      "  2  SRC-POL       1 BinTableHDU     47   50331648R x 4C   [B, B, B, B]   \n",
      "==========================================================================================\n",
      "Filename: data/Bl_T_R3.01_fullsky_143hm1x143hm1.fits\n",
      "No.    Name      Ver    Type      Cards   Dimensions   Format\n",
      "  0  PRIMARY       1 PrimaryHDU      19   ()      \n",
      "  1  WINDOW FUNCTION    1 TableHDU        26   4001R x 1C   ['E15.7']   \n",
      "==========================================================================================\n",
      "Filename: data/Bl_T_R3.01_fullsky_143hm1x143hm2.fits\n",
      "No.    Name      Ver    Type      Cards   Dimensions   Format\n",
      "  0  PRIMARY       1 PrimaryHDU      19   ()      \n",
      "  1  WINDOW FUNCTION    1 TableHDU        26   4001R x 1C   ['E15.7']   \n",
      "==========================================================================================\n"
     ]
    }
   ],
   "source": [
    "def extract_data(filepath, hdu=1):\n",
    "    '''\n",
    "    Extracts input HDU from map Planck FITS file (we only need the first one)\n",
    "    Document function once fully tested\n",
    "    '''\n",
    "    \n",
    "    hdul = fits.open(filepath)\n",
    "    data = hdul[hdu].data                    # hdul is a list of HDU objects\n",
    "\n",
    "    hdul.info()                              # prints metadata about FITS file (HDUs)\n",
    "    print('='*90)\n",
    "    hdul.close()                    \n",
    "    \n",
    "    return data\n",
    "\n",
    "# Define each filepath\n",
    "filenames = ['HFI_SkyMap_143_2048_R3.01_halfmission-1.fits',        # map for half mission 1 143 GHZ\n",
    "             'HFI_SkyMap_143_2048_R3.01_halfmission-2.fits',        # map for half mission 2 143 GHZ\n",
    "             'HFI_Mask_GalPlane-apo5_2048_R2.00.fits',              # galactic plane mask for APO..\n",
    "             'HFI_Mask_PointSrc_2048_R2.00.fits',                   # mask point source\n",
    "             'Bl_T_R3.01_fullsky_143hm1x143hm1.fits',               # beam transfer function for hm1\n",
    "             'Bl_T_R3.01_fullsky_143hm1x143hm2.fits',               # beam transfer function for hm2\n",
    "            ]\n",
    "\n",
    "# extract data\n",
    "datalist = []\n",
    "for filename in filenames:\n",
    "    data_i = extract_data('data/'+filename)\n",
    "    datalist.append(data_i)\n",
    "    \n",
    "sky_hm1, sky_hm2, mask_gp, mask_ps = datalist[:4]\n",
    "beamf_hm1, beamf_hm2 = datalist[4:]"
   ]
  },
  {
   "cell_type": "markdown",
   "id": "89a58301",
   "metadata": {},
   "source": [
    "## visualize data"
   ]
  },
  {
   "cell_type": "code",
   "execution_count": 35,
   "id": "45f5276d",
   "metadata": {},
   "outputs": [],
   "source": [
    "#hp.mollview(\n",
    "#    data_map_hm1,\n",
    "#    coord=[\"G\", \"E\"],\n",
    "#    title=\"Histogram equalized Ecliptic\",\n",
    "#    unit=\"mK\",\n",
    "#    norm=\"hist\",\n",
    "#    min=-1,\n",
    "#    max=1,\n",
    "#)\n",
    "#hp.graticule()"
   ]
  },
  {
   "cell_type": "markdown",
   "id": "6f93fc46",
   "metadata": {},
   "source": [
    "## compute spherical harmoncis"
   ]
  },
  {
   "cell_type": "code",
   "execution_count": 9,
   "id": "aba78cce",
   "metadata": {},
   "outputs": [
    {
     "name": "stdout",
     "output_type": "stream",
     "text": [
      "It took 77.15 s. to compute a_lm\n"
     ]
    }
   ],
   "source": [
    "def find_spherical_harmonics(map_table, gp_table, ps_table,\n",
    "                             stoke_param ='I_STOKES', galactic_plane='GAL040', \n",
    "                             frequency=143, NSIDE=2048):\n",
    "    '''\n",
    "    Computes the spherical harmonics from a map,\n",
    "    masking the stokes parameters from the raw CMB data\n",
    "    Fully document function once fully tested\n",
    "    '''\n",
    "    \n",
    "    start = time.time()\n",
    "    \n",
    "    # extract stoke parameter (T or I by default) and mask based on galactic plane and point source\n",
    "    x = map_table[stoke_param]\n",
    "    gp_mask = gp_table[galactic_plane]\n",
    "    ps_mask = ps_table[f'F{frequency}']\n",
    "    x_masked = x*gp_mask*ps_mask\n",
    "    \n",
    "    # compute spherical harmonics\n",
    "    a_lm =  hp.sphtfunc.map2alm(x_masked, lmax=NSIDE)\n",
    "    \n",
    "    end = time.time()\n",
    "    print(f'It took {end-start:.2f} s. to compute a_lm')\n",
    "    \n",
    "    return a_lm\n",
    "\n",
    "# Call function\n",
    "a_lm_1 = find_spherical_harmonics(sky_hm1, mask_gp, mask_ps)\n",
    "#a_lm_2 = find_spherical_harmonics(sky_hm2, mask_gp, mask_ps)"
   ]
  },
  {
   "cell_type": "code",
   "execution_count": null,
   "id": "a1b99e83",
   "metadata": {},
   "outputs": [],
   "source": [
    "#a_lm_2 = find_spherical_harmonics(sky_hm2, mask_gp, mask_ps)"
   ]
  },
  {
   "cell_type": "code",
   "execution_count": 23,
   "id": "cdccacce",
   "metadata": {},
   "outputs": [
    {
     "name": "stdout",
     "output_type": "stream",
     "text": [
      "-1.6375e+30\n"
     ]
    }
   ],
   "source": [
    "a = sky_hm2['I_STOKES']\n",
    "print(np.min(a))"
   ]
  },
  {
   "cell_type": "code",
   "execution_count": 24,
   "id": "12c70ed7",
   "metadata": {},
   "outputs": [
    {
     "name": "stdout",
     "output_type": "stream",
     "text": [
      "0.13809997\n"
     ]
    }
   ],
   "source": [
    "print(np.max(a))"
   ]
  },
  {
   "cell_type": "code",
   "execution_count": 27,
   "id": "2870d7ac",
   "metadata": {},
   "outputs": [
    {
     "name": "stdout",
     "output_type": "stream",
     "text": [
      "(array([], dtype=int64),)\n"
     ]
    }
   ],
   "source": [
    "print(np.where(~np.isfinite(sky_hm2['I_STOKES'])))"
   ]
  },
  {
   "cell_type": "code",
   "execution_count": null,
   "id": "49767e83",
   "metadata": {},
   "outputs": [],
   "source": []
  },
  {
   "cell_type": "markdown",
   "id": "7b6f48d9",
   "metadata": {},
   "source": [
    "## compute actual cross power spectrum"
   ]
  },
  {
   "cell_type": "code",
   "execution_count": null,
   "id": "4f285806",
   "metadata": {},
   "outputs": [],
   "source": [
    "def find_power_spectrum(alm_1, alm_2,\n",
    "                        M_ll, b_l, f_l=1, n_l=0, NSIDE=2048):\n",
    "    '''\n",
    "    Finds the cross-power spectrum (via pseudo cross power spectrum) given the \n",
    "    coefficients of the spherical harmonics\n",
    "    Document function once fully tested\n",
    "    '''\n",
    "    # compute pseudo power spectrum\n",
    "    D_l = alm2cl(alm_1, alm_2)\n",
    "    \n",
    "    # now define all the instrument related biases\n",
    "    p_l = hp.sphtfunc.pixwin(NSIDE)\n",
    "    m_ll = #? \n",
    "    b_l = #??"
   ]
  },
  {
   "cell_type": "code",
   "execution_count": null,
   "id": "13130e1f",
   "metadata": {},
   "outputs": [],
   "source": []
  }
 ],
 "metadata": {
  "kernelspec": {
   "display_name": "Python 3",
   "language": "python",
   "name": "python3"
  },
  "language_info": {
   "codemirror_mode": {
    "name": "ipython",
    "version": 3
   },
   "file_extension": ".py",
   "mimetype": "text/x-python",
   "name": "python",
   "nbconvert_exporter": "python",
   "pygments_lexer": "ipython3",
   "version": "3.8.8"
  }
 },
 "nbformat": 4,
 "nbformat_minor": 5
}
