{
 "cells": [
  {
   "cell_type": "markdown",
   "id": "b33e285c",
   "metadata": {},
   "source": [
    "## import"
   ]
  },
  {
   "cell_type": "code",
   "execution_count": 119,
   "id": "39985f9c",
   "metadata": {},
   "outputs": [],
   "source": [
    "import pandas as pd\n",
    "import numpy as np\n",
    "import scipy as sp\n",
    "from astropy.io import fits\n",
    "from astropy.utils.data import get_pkg_data_filename\n",
    "from astropy.table import Table\n",
    "import matplotlib.pyplot as plt\n",
    "from jupyterthemes import jtplot\n",
    "\n",
    "%config InlineBackend.figure_format = 'retina'                                    # so you can see plots in HD :) \n",
    "#colors = sns.color_palette(\"colorblind\").as_hex()\n",
    "jtplot.style(theme='monokai', context='notebook', ticks=True, grid=False)"
   ]
  },
  {
   "cell_type": "markdown",
   "id": "6b127a06",
   "metadata": {},
   "source": [
    "## explore CMB maps"
   ]
  },
  {
   "cell_type": "code",
   "execution_count": 120,
   "id": "017ca6e5",
   "metadata": {},
   "outputs": [
    {
     "name": "stdout",
     "output_type": "stream",
     "text": [
      "Filename: data/HFI_SkyMap_143_2048_R3.01_halfmission-1.fits\n",
      "No.    Name      Ver    Type      Cards   Dimensions   Format\n",
      "  0  PRIMARY       1 PrimaryHDU       4   ()      \n",
      "  1  FREQ-MAP      1 BinTableHDU     75   50331648R x 10C   [E, E, E, J, E, E, E, E, E, E]   \n",
      "==========================================================================================\n",
      "Filename: data/HFI_SkyMap_143_2048_R3.01_halfmission-2.fits\n",
      "No.    Name      Ver    Type      Cards   Dimensions   Format\n",
      "  0  PRIMARY       1 PrimaryHDU       4   ()      \n",
      "  1  FREQ-MAP      1 BinTableHDU     75   50331648R x 10C   [E, E, E, J, E, E, E, E, E, E]   \n",
      "==========================================================================================\n",
      "Filename: data/HFI_Mask_GalPlane-apo5_2048_R2.00.fits\n",
      "No.    Name      Ver    Type      Cards   Dimensions   Format\n",
      "  0  PRIMARY       1 PrimaryHDU       4   ()      \n",
      "  1  GAL-MASK      1 BinTableHDU     54   50331648R x 8C   [E, E, E, E, E, E, E, E]   \n",
      "==========================================================================================\n",
      "Filename: data/HFI_Mask_PointSrc_2048_R2.00.fits\n",
      "No.    Name      Ver    Type      Cards   Dimensions   Format\n",
      "  0  PRIMARY       1 PrimaryHDU       4   ()      \n",
      "  1  SRC-INT       1 BinTableHDU     49   50331648R x 6C   [B, B, B, B, B, B]   \n",
      "  2  SRC-POL       1 BinTableHDU     47   50331648R x 4C   [B, B, B, B]   \n",
      "==========================================================================================\n"
     ]
    }
   ],
   "source": [
    "# define paths to datafiles\n",
    "map_hm1 = 'data/HFI_SkyMap_143_2048_R3.01_halfmission-1.fits'              # map for half mission 1 143 GHZ\n",
    "map_hm2 = 'data/HFI_SkyMap_143_2048_R3.01_halfmission-2.fits'\n",
    "mask_gp = 'data/HFI_Mask_GalPlane-apo5_2048_R2.00.fits'              # galactic plane mask\n",
    "mask_ps = 'data/HFI_Mask_PointSrc_2048_R2.00.fits'                   # mask point source\n",
    "\n",
    "# extract primary headers in each fits file\n",
    "primary_hdus = []\n",
    "event_hdus = []\n",
    "\n",
    "for item in [map_hm1, map_hm2, mask_gp, mask_ps]:\n",
    "    # open each file, print important info, and extract primary data\n",
    "    hdul_i = fits.open(item)\n",
    "    hdul_i.info()\n",
    "    print('='*90)\n",
    "    \n",
    "    events = Table.read(map_hm1, hdu=1)\n",
    "    second_hdus.append(hdul_i[1].data)"
   ]
  },
  {
   "cell_type": "code",
   "execution_count": 121,
   "id": "b7387b1d",
   "metadata": {},
   "outputs": [
    {
     "ename": "IndexError",
     "evalue": "list index out of range",
     "output_type": "error",
     "traceback": [
      "\u001b[0;31m---------------------------------------------------------------------------\u001b[0m",
      "\u001b[0;31mIndexError\u001b[0m                                Traceback (most recent call last)",
      "\u001b[0;32m<ipython-input-121-e9731389ab30>\u001b[0m in \u001b[0;36m<module>\u001b[0;34m\u001b[0m\n\u001b[0;32m----> 1\u001b[0;31m \u001b[0;34m(\u001b[0m\u001b[0mevent_hdus\u001b[0m\u001b[0;34m[\u001b[0m\u001b[0;36m0\u001b[0m\u001b[0;34m]\u001b[0m\u001b[0;34m.\u001b[0m\u001b[0mcolumns\u001b[0m\u001b[0;34m)\u001b[0m\u001b[0;34m\u001b[0m\u001b[0;34m\u001b[0m\u001b[0m\n\u001b[0m",
      "\u001b[0;31mIndexError\u001b[0m: list index out of range"
     ]
    }
   ],
   "source": [
    "(event_hdus[0].columns)"
   ]
  },
  {
   "cell_type": "code",
   "execution_count": 44,
   "id": "e25bda07",
   "metadata": {},
   "outputs": [
    {
     "data": {
      "text/plain": [
       "numpy.record"
      ]
     },
     "execution_count": 44,
     "metadata": {},
     "output_type": "execute_result"
    }
   ],
   "source": [
    "test_array = np.array(scidata_m1[0:10])\n",
    "type(test_array[0])"
   ]
  },
  {
   "cell_type": "code",
   "execution_count": 64,
   "id": "83e35301",
   "metadata": {},
   "outputs": [
    {
     "data": {
      "image/png": "[encoded data removed]",
      "text/plain": [
       "<Figure size 288x960 with 1 Axes>"
      ]
     },
     "metadata": {
      "image/png": {
       "height": 789,
       "width": 257
      }
     },
     "output_type": "display_data"
    }
   ],
   "source": [
    "plt.matshow(scidata_m1['I_STOKES'].reshape(50331648//3, 3)[:10,0:3])\n",
    "plt.show()"
   ]
  },
  {
   "cell_type": "code",
   "execution_count": 59,
   "id": "3d24165e",
   "metadata": {},
   "outputs": [
    {
     "name": "stdout",
     "output_type": "stream",
     "text": [
      "0.009951804\n"
     ]
    }
   ],
   "source": [
    "test = scidata_m1['I_STOKES'].reshape(50331648//3, 3)[:,0:2]\n",
    "print(np.max(test))"
   ]
  },
  {
   "cell_type": "code",
   "execution_count": null,
   "id": "4cec48a8",
   "metadata": {},
   "outputs": [],
   "source": []
  }
 ],
 "metadata": {
  "kernelspec": {
   "display_name": "Python 3",
   "language": "python",
   "name": "python3"
  },
  "language_info": {
   "codemirror_mode": {
    "name": "ipython",
    "version": 3
   },
   "file_extension": ".py",
   "mimetype": "text/x-python",
   "name": "python",
   "nbconvert_exporter": "python",
   "pygments_lexer": "ipython3",
   "version": "3.8.8"
  }
 },
 "nbformat": 4,
 "nbformat_minor": 5
}
