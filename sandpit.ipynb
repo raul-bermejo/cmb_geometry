{
 "cells": [
  {
   "cell_type": "markdown",
   "id": "2363efc4",
   "metadata": {},
   "source": [
    "## import"
   ]
  },
  {
   "cell_type": "code",
   "execution_count": null,
   "id": "c4816c61",
   "metadata": {},
   "outputs": [],
   "source": [
    "import time\n",
    "import pandas as pd\n",
    "import numpy as np\n",
    "import healpy as hp\n",
    "from astropy.io import fits\n",
    "import matplotlib.pyplot as plt\n",
    "from jupyterthemes import jtplot\n",
    "from healpy.fitsfunc import read_map\n",
    "\n",
    "%config InlineBackend.figure_format = 'retina'                                    # so you can see plots in HD :) \n",
    "#colors = sns.color_palette(\"colorblind\").as_hex()\n",
    "jtplot.style(theme='grade3', context='notebook', ticks=True, grid=False)\n",
    "\n",
    "############### CMB colormap\n",
    "from matplotlib.colors import ListedColormap\n",
    "colombi1_cmap = ListedColormap(np.loadtxt(\"Planck_Parchment_RGB.txt\")/255.)\n",
    "colombi1_cmap.set_bad(\"gray\") # color of missing pixels\n",
    "colombi1_cmap.set_under(\"white\") # color of background, necessary if you want to use\n",
    "# this colormap directly with hp.mollview(m, cmap=colombi1_cmap)\n",
    "cmap = colombi1_cmap"
   ]
  },
  {
   "cell_type": "markdown",
   "id": "4e5758f0",
   "metadata": {},
   "source": [
    "## extract CMB maps and masks"
   ]
  },
  {
   "cell_type": "code",
   "execution_count": null,
   "id": "7a5b2413",
   "metadata": {},
   "outputs": [],
   "source": [
    "# Define some fixed params\n",
    "NSIDE = 2048                                                                      # given in the name of the maps\n",
    "APO = 5                                                                           # apodization length\n",
    "HDU = 1\n",
    "\n",
    "gal_cover = 80                                                                    # % of cover in galacitc plane\n",
    "\n",
    "GALCOVER_DICT = {\n",
    "    'GAL020': 0,\n",
    "    'GAL040': 1,\n",
    "    'GAL060': 2,\n",
    "    'GAL070': 3,\n",
    "    'GAL080': 4,\n",
    "    'GAL090': 5,\n",
    "    'GAL097': 6,\n",
    "    'GAL099': 7\n",
    "}\n",
    "\n",
    "FREQ_PS_DICT = {\n",
    "    'F100': 0,\n",
    "    'F143': 1,\n",
    "    'F217': 2,\n",
    "    'F353': 3,\n",
    "    'F545': 4,\n",
    "    'F857': 5,\n",
    "} \n",
    "\n",
    "# define filepaths\n",
    "filepath_hm1 = 'data/HFI_SkyMap_143_2048_R3.01_halfmission-1.fits'                     # map for half mission 1 143 GHZ\n",
    "filepath_hm2 = 'data/HFI_SkyMap_143_2048_R3.01_halfmission-2.fits'                     # map for half mission 2 143 GHZ\n",
    "filepath_gp = f'data/HFI_Mask_GalPlane-apo{APO}_2048_R2.00.fits'                 # galactic plane mask for input apodization length\n",
    "filepath_ps = 'data/HFI_Mask_PointSrc_2048_R2.00.fits'                           # mask point source\n",
    "            \n",
    "\n",
    "start1 = time.time()\n",
    "print(f'Started Planck data extraction:')\n",
    "print('='*80)\n",
    "# extract data by using read_map funcitn from healpy\n",
    "sky_hm1, sky_hm2 = read_map(filepath_hm1, field=0, hdu=HDU), read_map(filepath_hm2, field=0, hdu=HDU)\n",
    "\n",
    "field_gp = GALCOVER_DICT[f'GAL0{gal_cover}']\n",
    "mask_gp = read_map(filepath_gp, field=field_gp, hdu=HDU)\n",
    "\n",
    "field_ps = FREQ_PS_DICT['F143']\n",
    "mask_gp = read_map(filepath_ps, field=field_ps, hdu=HDU)\n",
    "\n",
    "end1 = time.time()\n",
    "print(f'It took {end1-start1:.2f}s. to extract the Planck data files.')"
   ]
  },
  {
   "cell_type": "markdown",
   "id": "1ab425ce",
   "metadata": {},
   "source": [
    "## data quality check"
   ]
  },
  {
   "cell_type": "code",
   "execution_count": null,
   "id": "9b07bfbf",
   "metadata": {},
   "outputs": [],
   "source": [
    "BAD_DATA = -1.6375e+30\n",
    "\n",
    "def quality_check(sky_array, bad_data=-1.6375e+30):\n",
    "    '''\n",
    "    Document once fully test\n",
    "    '''\n",
    "    \n",
    "    sky_array = sky_array.astype(np.float)\n",
    "    \n",
    "    sky_array[sky_array ==  BAD_DATA] = 0\n",
    "    mean_sky = np.mean(sky_array)\n",
    "    print(mean_sky)\n",
    "    \n",
    "    return(mean_sky)\n",
    "\n",
    "sky_hm1, sky_hm2 = quality_check(sky_hm1), quality_check(sky_hm2)"
   ]
  },
  {
   "cell_type": "code",
   "execution_count": null,
   "id": "9973941c",
   "metadata": {},
   "outputs": [],
   "source": []
  },
  {
   "cell_type": "code",
   "execution_count": null,
   "id": "b8a51a63",
   "metadata": {},
   "outputs": [],
   "source": [
    "npy_filenames = ['HFI_SkyMap_143_2048_R3.01_halfmission-1.npy',        # map for half mission 1 143 GHZ\n",
    "             'HFI_SkyMap_143_2048_R3.01_halfmission-2.npy',        # map for half mission 2 143 GHZ\n",
    "             'HFI_Mask_GalPlane-apo5_2048_R2.00_GAL060_.npy',              # galactic plane mask for input apodization\n",
    "             'HFI_Mask_PointSrc_2048_R2.00.npy',                   # mask point source\n",
    "             'Bl_T_R3.01_fullsky_143hm1x143hm1.npy',               # beam transfer function for hm1\n",
    "             'Bl_T_R3.01_fullsky_143hm1x143hm2.npy',               # beam transfer function for hm2\n",
    "            ]\n",
    "\n",
    "array_list = []\n",
    "for npy_filename in npy_filenames:\n",
    "    a = np.load('data/'+npy_filename)\n",
    "    a[a ==  -1.6375e+30] = 0\n",
    "    \n",
    "    array_list.append(a)"
   ]
  },
  {
   "cell_type": "code",
   "execution_count": null,
   "id": "9f85f087",
   "metadata": {},
   "outputs": [],
   "source": [
    "print(np.mean(sky_hm1))"
   ]
  },
  {
   "cell_type": "code",
   "execution_count": null,
   "id": "44a6e975",
   "metadata": {},
   "outputs": [],
   "source": [
    "hp.mollview(array_list[0]*1e3, coord=[\"G\"],  norm=\"hist\",\n",
    "            title=\"Histogram equalized Ecliptic\", unit=\"mK norm.\", cmap=cmap)\n",
    "hp.graticule()"
   ]
  },
  {
   "cell_type": "markdown",
   "id": "c203e120",
   "metadata": {},
   "source": [
    "## compute spherical harmoncis"
   ]
  },
  {
   "cell_type": "code",
   "execution_count": null,
   "id": "aba78cce",
   "metadata": {},
   "outputs": [],
   "source": [
    "def find_spherical_harmonics(map_table, gp_table, ps_table, apply_mask=True,\n",
    "                             stoke_param ='I_STOKES', galactic_plane='GAL020', \n",
    "                             frequency=143, NSIDE=2048):\n",
    "    '''\n",
    "    Computes the spherical harmonics from a map,\n",
    "    masking the stokes parameters from the raw CMB data\n",
    "    Fully document function once fully tested\n",
    "    '''\n",
    "    \n",
    "    start = time.time()\n",
    "    \n",
    "    # extract stoke parameter (T or I by default) and mask based on galactic plane and point source\n",
    "    x = map_table[stoke_param]\n",
    "    \n",
    "    if apply_mask:\n",
    "        gp_mask = gp_table[galactic_plane]\n",
    "        ps_mask = ps_table[f'F{frequency}']\n",
    "        x_masked = x*gp_mask*ps_mask\n",
    "    else:\n",
    "        x_masked = x\n",
    "    \n",
    "    # compute spherical harmonics\n",
    "    a_lm =  hp.sphtfunc.map2alm(x_masked, pol=False, lmax=4000)               # lmax=4000 is a good estimate, default is #*NSIDE-1\n",
    "    \n",
    "    end = time.time()\n",
    "    print(f'It took {end-start:.2f} s. to compute a_lm')\n",
    "    \n",
    "    return a_lm\n",
    "\n",
    "# Call function\n",
    "a_lm_1 = find_spherical_harmonics(sky_hm1, mask_gp, mask_ps, apply_mask=False)\n",
    "a_lm_2 = find_spherical_harmonics(sky_hm2, mask_gp, mask_ps, apply_mask=False)"
   ]
  },
  {
   "cell_type": "markdown",
   "id": "7b6f48d9",
   "metadata": {},
   "source": [
    "## compute actual cross power spectrum"
   ]
  },
  {
   "cell_type": "code",
   "execution_count": null,
   "id": "4f285806",
   "metadata": {},
   "outputs": [],
   "source": [
    "def find_power_spectrum(alm_1, alm_2, bl_1, bl_2,\n",
    "                        M_ll=1, f_l=1, n_l=0, NSIDE=2048,\n",
    "                        pseudo_return=False):\n",
    "    '''\n",
    "    Finds the cross-power spectrum (via pseudo cross power spectrum) given the \n",
    "    coefficients of the spherical harmonics\n",
    "    Document function once fully tested\n",
    "    '''\n",
    "    \n",
    "    start = time.time()\n",
    "    # compute pseudo power spectrum\n",
    "    D_l = hp.sphtfunc.alm2cl(alm_1, alm_2)\n",
    "        \n",
    "    # now define all the instrument related biases\n",
    "    bl_1, bl_2 = bl_1.astype(np.float), bl_2.astype(np.float)\n",
    "    p_l = hp.sphtfunc.pixwin(NSIDE, lmax=len(bl_1)-1)\n",
    "    \n",
    "    # calculate actual power spectrum\n",
    "    C_l = D_l/(p_l**2 * bl_1*bl_2)\n",
    "    end = time.time()\n",
    "    print(f'It took {end-start:.2f} s. to compute the cross-power spectrum.')\n",
    "    \n",
    "    if pseudo_return:\n",
    "        return D_l\n",
    "    else:\n",
    "        return C_l\n",
    "    \n",
    "D_l = find_power_spectrum(a_lm_1, a_lm_2, beamf_hm1, beamf_hm2, pseudo_return=True)"
   ]
  },
  {
   "cell_type": "code",
   "execution_count": null,
   "id": "06b0a96a",
   "metadata": {},
   "outputs": [],
   "source": [
    "l = np.arange(len(D_l))\n",
    "#C_l_binned = l*(l+1)+C_l/(2*np.pi)\n",
    "galperc = 'X'\n",
    "\n",
    "fig, ax = plt.subplots(figsize=(13,9))\n",
    "\n",
    "ax.plot(l, D_l, 'o')\n",
    "#ax.set_xlim([100,4000])\n",
    "ax.set_yscale('log')\n",
    "\n",
    "ax.set_xlabel('l')\n",
    "#ax.set_ylabel(r'$\\frac{l(l-1)}{2\\pi} C_l$')\n",
    "ax.set_ylabel(r'$D_l$')\n",
    "ax.set_title(f'Cross-Power Spectrum for 143 GHZ and {galperc}% galactic plane coverage')\n",
    "\n",
    "plt.show()"
   ]
  },
  {
   "cell_type": "code",
   "execution_count": null,
   "id": "0fed92bb",
   "metadata": {},
   "outputs": [],
   "source": []
  }
 ],
 "metadata": {
  "kernelspec": {
   "display_name": "Python 3",
   "language": "python",
   "name": "python3"
  },
  "language_info": {
   "codemirror_mode": {
    "name": "ipython",
    "version": 3
   },
   "file_extension": ".py",
   "mimetype": "text/x-python",
   "name": "python",
   "nbconvert_exporter": "python",
   "pygments_lexer": "ipython3",
   "version": "3.8.8"
  }
 },
 "nbformat": 4,
 "nbformat_minor": 5
}
